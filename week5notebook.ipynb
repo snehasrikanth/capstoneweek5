
Capstone Project – The Battle of Neighborhoods | Finding a Better Place in Scarborough, Toronto¶
1. Installing and Importing Python Libraries and Dependencies
In [1]:
!pip install geocoder
!pip install folium
Collecting geocoder
  Downloading https://files.pythonhosted.org/packages/4f/6b/13166c909ad2f2d76b929a4227c952630ebaf0d729f6317eb09cbceccbab/geocoder-1.38.1-py2.py3-none-any.whl (98kB)
     |████████████████████████████████| 102kB 17.1MB/s ta 0:00:01
Requirement already satisfied: six in /opt/conda/envs/Python36/lib/python3.6/site-packages (from geocoder) (1.12.0)
Requirement already satisfied: requests in /opt/conda/envs/Python36/lib/python3.6/site-packages (from geocoder) (2.21.0)
Requirement already satisfied: future in /opt/conda/envs/Python36/lib/python3.6/site-packages (from geocoder) (0.17.1)
Collecting ratelim (from geocoder)
  Downloading https://files.pythonhosted.org/packages/f2/98/7e6d147fd16a10a5f821db6e25f192265d6ecca3d82957a4fdd592cad49c/ratelim-0.1.6-py2.py3-none-any.whl
Requirement already satisfied: click in /opt/conda/envs/Python36/lib/python3.6/site-packages (from geocoder) (7.0)
Requirement already satisfied: certifi>=2017.4.17 in /opt/conda/envs/Python36/lib/python3.6/site-packages (from requests->geocoder) (2019.9.11)
Requirement already satisfied: idna<2.9,>=2.5 in /opt/conda/envs/Python36/lib/python3.6/site-packages (from requests->geocoder) (2.8)
Requirement already satisfied: urllib3<1.25,>=1.21.1 in /opt/conda/envs/Python36/lib/python3.6/site-packages (from requests->geocoder) (1.24.1)
Requirement already satisfied: chardet<3.1.0,>=3.0.2 in /opt/conda/envs/Python36/lib/python3.6/site-packages (from requests->geocoder) (3.0.4)
Requirement already satisfied: decorator in /opt/conda/envs/Python36/lib/python3.6/site-packages (from ratelim->geocoder) (4.3.2)
Installing collected packages: ratelim, geocoder
Successfully installed geocoder-1.38.1 ratelim-0.1.6
Collecting folium
  Downloading https://files.pythonhosted.org/packages/72/ff/004bfe344150a064e558cb2aedeaa02ecbf75e60e148a55a9198f0c41765/folium-0.10.0-py2.py3-none-any.whl (91kB)
     |████████████████████████████████| 92kB 12.7MB/s eta 0:00:01
Requirement already satisfied: jinja2>=2.9 in /opt/conda/envs/Python36/lib/python3.6/site-packages (from folium) (2.10)
Requirement already satisfied: numpy in /opt/conda/envs/Python36/lib/python3.6/site-packages (from folium) (1.15.4)
Requirement already satisfied: requests in /opt/conda/envs/Python36/lib/python3.6/site-packages (from folium) (2.21.0)
Collecting branca>=0.3.0 (from folium)
  Downloading https://files.pythonhosted.org/packages/63/36/1c93318e9653f4e414a2e0c3b98fc898b4970e939afeedeee6075dd3b703/branca-0.3.1-py3-none-any.whl
Requirement already satisfied: MarkupSafe>=0.23 in /opt/conda/envs/Python36/lib/python3.6/site-packages (from jinja2>=2.9->folium) (1.1.0)
Requirement already satisfied: certifi>=2017.4.17 in /opt/conda/envs/Python36/lib/python3.6/site-packages (from requests->folium) (2019.9.11)
Requirement already satisfied: urllib3<1.25,>=1.21.1 in /opt/conda/envs/Python36/lib/python3.6/site-packages (from requests->folium) (1.24.1)
Requirement already satisfied: idna<2.9,>=2.5 in /opt/conda/envs/Python36/lib/python3.6/site-packages (from requests->folium) (2.8)
Requirement already satisfied: chardet<3.1.0,>=3.0.2 in /opt/conda/envs/Python36/lib/python3.6/site-packages (from requests->folium) (3.0.4)
Requirement already satisfied: six in /opt/conda/envs/Python36/lib/python3.6/site-packages (from branca>=0.3.0->folium) (1.12.0)
Installing collected packages: branca, folium
Successfully installed branca-0.3.1 folium-0.10.0
Importing Libraries

In [2]:
import pandas as pd
import requests
import numpy as np
import geocoder
import folium
import requests 
import matplotlib.cm as cm
import matplotlib.colors as colors
import json
import xml
import matplotlib.pyplot as plt
%matplotlib inline
import warnings
warnings.filterwarnings("ignore")

from pandas.io.json import json_normalize 
from sklearn.cluster import KMeans
from geopy.geocoders import Nominatim 
from bs4 import BeautifulSoup

pd.set_option('display.max_columns', None)
pd.set_option('display.max_rows', None)

print("All Required Libraries Imported!")
All Required Libraries Imported!
2. Data Extraction and Cleaning
Using BeautifulSoup Scraping List of Postal Codes of Given Wikipedia Page. Link: https://en.wikipedia.org/wiki/List_of_postal_codes_of_Canada:_M

In [3]:
url = "https://en.wikipedia.org/wiki/List_of_postal_codes_of_Canada:_M"
extracting_data = requests.get(url).text
wiki_data = BeautifulSoup(extracting_data, 'lxml')
Converting content of PostalCode HTML table as dataframe

In [4]:
column_names = ['Postalcode','Borough','Neighborhood']
toronto = pd.DataFrame(columns = column_names)

content = wiki_data.find('div', class_='mw-parser-output')
table = content.table.tbody
postcode = 0
borough = 0
neighborhood = 0

for tr in table.find_all('tr'):
    i = 0
    for td in tr.find_all('td'):
        if i == 0:
            postcode = td.text
            i = i + 1
        elif i == 1:
            borough = td.text
            i = i + 1
        elif i == 2: 
            neighborhood = td.text.strip('\n').replace(']','')
    toronto = toronto.append({'Postalcode': postcode,'Borough': borough,'Neighborhood': neighborhood},ignore_index=True)
In [5]:
# clean dataframe 
toronto = toronto[toronto.Borough!='Not assigned']
toronto = toronto[toronto.Borough!= 0]
toronto.reset_index(drop = True, inplace = True)
i = 0
for i in range(0,toronto.shape[0]):
    if toronto.iloc[i][2] == 'Not assigned':
        toronto.iloc[i][2] = toronto.iloc[i][1]
        i = i+1
In [6]:
df = toronto.groupby(['Postalcode','Borough'])['Neighborhood'].apply(', '.join).reset_index()
df.head()
Out[6]:
Postalcode	Borough	Neighborhood
0	M1B	Scarborough	Rouge, Malvern
1	M1C	Scarborough	Highland Creek, Rouge Hill, Port Union
2	M1E	Scarborough	Guildwood, Morningside, West Hill
3	M1G	Scarborough	Woburn
4	M1H	Scarborough	Cedarbrae
In [7]:
df.describe()
Out[7]:
Postalcode	Borough	Neighborhood
count	103	103	103
unique	103	11	103
top	M2M	North York	York Mills West
freq	1	24	1
In [8]:
df = df.dropna()
empty = 'Not assigned'
df = df[(df.Postalcode != empty ) & (df.Borough != empty) & (df.Neighborhood != empty)]
In [9]:
df.head()
Out[9]:
Postalcode	Borough	Neighborhood
0	M1B	Scarborough	Rouge, Malvern
1	M1C	Scarborough	Highland Creek, Rouge Hill, Port Union
2	M1E	Scarborough	Guildwood, Morningside, West Hill
3	M1G	Scarborough	Woburn
4	M1H	Scarborough	Cedarbrae
In [10]:
def neighborhood_list(grouped):    
    return ', '.join(sorted(grouped['Neighborhood'].tolist()))
                    
grp = df.groupby(['Postalcode', 'Borough'])
df_2 = grp.apply(neighborhood_list).reset_index(name='Neighborhood')
In [11]:
df_2.describe()
Out[11]:
Postalcode	Borough	Neighborhood
count	103	103	103
unique	103	11	103
top	M2M	North York	York Mills West
freq	1	24	1
In [12]:
print(df_2.shape)
df_2.head()
(103, 3)
Out[12]:
Postalcode	Borough	Neighborhood
0	M1B	Scarborough	Rouge, Malvern
1	M1C	Scarborough	Highland Creek, Rouge Hill, Port Union
2	M1E	Scarborough	Guildwood, Morningside, West Hill
3	M1G	Scarborough	Woburn
4	M1H	Scarborough	Cedarbrae
In [13]:
def get_latilong(postal_code):
    lati_long_coords = None
    while(lati_long_coords is None):
        g = geocoder.arcgis('{}, Toronto, Ontario'.format(postal_code))
        lati_long_coords = g.latlng
    return lati_long_coords
    
get_latilong('M4G')
Out[13]:
[43.70949500000006, -79.36398897099997]
In [14]:
# Retrieving Postal Code Co-ordinates
postal_codes = df_2['Postalcode']    
coords = [ get_latilong(postal_code) for postal_code in postal_codes.tolist() ]
In [15]:
# Adding Columns Latitude & Longitude
df_coords = pd.DataFrame(coords, columns=['Latitude', 'Longitude'])
df_2['Latitude'] = df_coords['Latitude']
df_2['Longitude'] = df_coords['Longitude']
In [16]:
df_2[df_2.Postalcode == 'M5G']
Out[16]:
Postalcode	Borough	Neighborhood	Latitude	Longitude
57	M5G	Downtown Toronto	Central Bay Street	43.656091	-79.38493
In [17]:
df_2.head(10)
Out[17]:
Postalcode	Borough	Neighborhood	Latitude	Longitude
0	M1B	Scarborough	Rouge, Malvern	43.811525	-79.195517
1	M1C	Scarborough	Highland Creek, Rouge Hill, Port Union	43.785665	-79.158725
2	M1E	Scarborough	Guildwood, Morningside, West Hill	43.765815	-79.175193
3	M1G	Scarborough	Woburn	43.768369	-79.217590
4	M1H	Scarborough	Cedarbrae	43.769688	-79.239440
5	M1J	Scarborough	Scarborough Village	43.743125	-79.231750
6	M1K	Scarborough	East Birchmount Park, Ionview, Kennedy Park	43.726276	-79.263625
7	M1L	Scarborough	Clairlea, Golden Mile, Oakridge	43.713054	-79.285055
8	M1M	Scarborough	Cliffcrest, Cliffside, Scarborough Village West	43.724235	-79.227925
9	M1N	Scarborough	Birch Cliff, Cliffside West	43.696770	-79.259967
In [18]:
address = 'Scarborough,Toronto'

geolocator = Nominatim()
location = geolocator.geocode(address)
latitude_x = location.latitude
longitude_y = location.longitude
print('The Geograpical Co-ordinate of Seattle,Washington are {}, {}.'.format(latitude_x, longitude_y))
The Geograpical Co-ordinate of Seattle,Washington are 43.773077, -79.257774.
3. Map of Scarborough
In [19]:
map_Scarborough = folium.Map(location=[latitude_x, longitude_y], zoom_start=10)

for lat, lng, nei in zip(df_2['Latitude'], df_2['Longitude'], df_2['Neighborhood']):
    
    label = '{}'.format(nei)
    label = folium.Popup(label, parse_html=True)
    folium.CircleMarker(
        [lat, lng],
        radius=5,
        popup=label,
        color='blue',
        fill=True,
        fill_color='#3186cc',
        fill_opacity=0.7,
        parse_html=False).add_to(map_Scarborough)  
    
map_Scarborough
Out[19]:
In [20]:
address = 'Scarborough,Toronto'

geolocator = Nominatim()
location = geolocator.geocode(address)
latitude_n1 = location.latitude
longitude_n1 = location.longitude
print('The Geograpical Co-ordinate of Neighborhood_1 are {}, {}.'.format(latitude_x, longitude_y))
The Geograpical Co-ordinate of Neighborhood_1 are 43.773077, -79.257774.
In [21]:
# @hiddel_cell
CLIENT_ID = 'DPBYY4JUY3DU20ALPSUV4ONY2K1GOJJKJ1NIHBB32XEMOVYY' # my Foursquare ID
CLIENT_SECRET = '1MV443TYEP4HUO0WDUW5NQ5W10L2Y4G05NWG11WIR3NUGC5B' # my Foursquare Secret
VERSION = '20180604'
LIMIT = 30
print('Your credentails:')
print('CLIENT_ID: '+CLIENT_ID)
print('CLIENT_SECRET: '+CLIENT_SECRET)
Your credentails:
CLIENT_ID: DPBYY4JUY3DU20ALPSUV4ONY2K1GOJJKJ1NIHBB32XEMOVYY
CLIENT_SECRET: 1MV443TYEP4HUO0WDUW5NQ5W10L2Y4G05NWG11WIR3NUGC5B
In [22]:
radius = 700 
LIMIT = 100
url = 'https://api.foursquare.com/v2/venues/explore?&client_id={}&client_secret={}&v={}&ll={},{}&radius={}&limit={}'.format(
    CLIENT_ID, 
    CLIENT_SECRET, 
    VERSION, 
    latitude_n1, 
   longitude_n1, 
    radius, 
   LIMIT)
results = requests.get(url).json()
In [23]:
venues=results['response']['groups'][0]['items']
nearby_venues = json_normalize(venues)
nearby_venues.columns
Out[23]:
Index(['reasons.count', 'reasons.items', 'referralId', 'venue.categories',
       'venue.events.count', 'venue.events.summary', 'venue.id',
       'venue.location.address', 'venue.location.cc', 'venue.location.city',
       'venue.location.country', 'venue.location.crossStreet',
       'venue.location.distance', 'venue.location.formattedAddress',
       'venue.location.labeledLatLngs', 'venue.location.lat',
       'venue.location.lng', 'venue.location.neighborhood',
       'venue.location.postalCode', 'venue.location.state', 'venue.name',
       'venue.photos.count', 'venue.photos.groups', 'venue.venuePage.id'],
      dtype='object')
In [24]:
def get_category_type(row):
    try:
        categories_list = row['categories']
    except:
        categories_list = row['venue.categories']
        
    if len(categories_list) == 0:
        return None
    else:
        return categories_list[0]['name']
4. Nearby Venues/Locations
In [25]:
filtered_columns = ['venue.name', 'venue.categories', 'venue.location.lat', 'venue.location.lng']
nearby_venues =nearby_venues.loc[:, filtered_columns]
nearby_venues.head()
Out[25]:
venue.name	venue.categories	venue.location.lat	venue.location.lng
0	Disney Store	[{'id': '4bf58dd8d48988d1f3941735', 'name': 'T...	43.775537	-79.256833
1	American Eagle Outfitters	[{'id': '4bf58dd8d48988d103951735', 'name': 'C...	43.775908	-79.258352
2	SEPHORA	[{'id': '4bf58dd8d48988d10c951735', 'name': 'C...	43.775017	-79.258109
3	Canyon Creek Chophouse	[{'id': '4bf58dd8d48988d1cc941735', 'name': 'S...	43.776959	-79.261694
4	Coliseum Scarborough Cinemas	[{'id': '4bf58dd8d48988d17f941735', 'name': 'M...	43.775995	-79.255649
5. Categories of Nearby Venues/Locations
In [26]:
nearby_venues['venue.categories'] = nearby_venues.apply(get_category_type, axis=1)

# clean columns
nearby_venues.columns = [col.split(".")[-1] for col in nearby_venues.columns]

nearby_venues.head(5)
Out[26]:
name	categories	lat	lng
0	Disney Store	Toy / Game Store	43.775537	-79.256833
1	American Eagle Outfitters	Clothing Store	43.775908	-79.258352
2	SEPHORA	Cosmetics Shop	43.775017	-79.258109
3	Canyon Creek Chophouse	Steakhouse	43.776959	-79.261694
4	Coliseum Scarborough Cinemas	Movie Theater	43.775995	-79.255649
In [27]:
# Top 10 Categories
a=pd.Series(nearby_venues.categories)
a.value_counts()[:10]
Out[27]:
Clothing Store         8
Coffee Shop            5
Restaurant             3
Cosmetics Shop         3
Sporting Goods Shop    2
Pharmacy               2
Wings Joint            2
Tea Room               2
Sandwich Place         2
Electronics Store      1
Name: categories, dtype: int64
In [28]:
def getNearbyVenues(names, latitudes, longitudes, radius=700):
    
    venues_list=[]
    for name, lat, lng in zip(names, latitudes, longitudes):
        print(name)
            
        url = 'https://api.foursquare.com/v2/venues/explore?&client_id={}&client_secret={}&v={}&ll={},{}&radius={}&limit={}'.format(
            CLIENT_ID, 
            CLIENT_SECRET, 
            VERSION, 
            lat, 
            lng, 
            radius, 
            LIMIT)
            
        # making GET request
        venue_results = requests.get(url).json()["response"]['groups'][0]['items']
        
        # return only relevant information for each nearby venue
        venues_list.append([(
            name, 
            lat, 
            lng, 
            v['venue']['name'], 
            v['venue']['location']['lat'], 
            v['venue']['location']['lng'],  
            v['venue']['categories'][0]['name']) for v in venue_results])

    nearby_venues = pd.DataFrame([item for venue_list in venues_list for item in venue_list])
    nearby_venues.columns = ['Neighborhood', 
                  'Neighborhood Latitude', 
                  'Neighborhood Longitude', 
                  'Venue', 
                  'Venue Latitude', 
                  'Venue Longitude', 
                  'Venue Category']
    
    return(nearby_venues)
In [29]:
# Nearby Venues
Scarborough_venues = getNearbyVenues(names=df_2['Neighborhood'],
                                   latitudes=df_2['Latitude'],
                                   longitudes=df_2['Longitude']
                                  )
Rouge, Malvern
Highland Creek, Rouge Hill, Port Union
Guildwood, Morningside, West Hill
Woburn
Cedarbrae
Scarborough Village
East Birchmount Park, Ionview, Kennedy Park
Clairlea, Golden Mile, Oakridge
Cliffcrest, Cliffside, Scarborough Village West
Birch Cliff, Cliffside West
Dorset Park, Scarborough Town Centre, Wexford Heights
Maryvale, Wexford
Agincourt
Clarks Corners, Sullivan, Tam O'Shanter
Agincourt North, L'Amoreaux East, Milliken, Steeles East
L'Amoreaux West
Upper Rouge
Hillcrest Village
Fairview, Henry Farm, Oriole
Bayview Village
Silver Hills, York Mills
Newtonbrook, Willowdale
Willowdale South
York Mills West
Willowdale West
Parkwoods
Don Mills North
Flemingdon Park, Don Mills South
Bathurst Manor, Downsview North, Wilson Heights
Northwood Park, York University
CFB Toronto, Downsview East
Downsview West
Downsview Central
Downsview Northwest
Victoria Village
Woodbine Gardens, Parkview Hill
Woodbine Heights
The Beaches
Leaside
Thorncliffe Park
East Toronto
The Danforth West, Riverdale
The Beaches West, India Bazaar
Studio District
Lawrence Park
Davisville North
North Toronto West
Davisville
Moore Park, Summerhill East
Deer Park, Forest Hill SE, Rathnelly, South Hill, Summerhill West
Rosedale
Cabbagetown, St. James Town
Church and Wellesley
Harbourfront, Regent Park
Ryerson, Garden District
St. James Town
Berczy Park
Central Bay Street
Adelaide, King, Richmond
Harbourfront East, Toronto Islands, Union Station
Design Exchange, Toronto Dominion Centre
Commerce Court, Victoria Hotel
Bedford Park, Lawrence Manor East
Roselawn
Forest Hill North, Forest Hill West
The Annex, North Midtown, Yorkville
Harbord, University of Toronto
Chinatown, Grange Park, Kensington Market
CN Tower, Bathurst Quay, Island airport, Harbourfront West, King and Spadina, Railway Lands, South Niagara
Stn A PO Boxes 25 The Esplanade
First Canadian Place, Underground city
Lawrence Heights, Lawrence Manor
Glencairn
Humewood-Cedarvale
Caledonia-Fairbanks
Christie
Dovercourt Village, Dufferin
Little Portugal, Trinity
Brockton, Exhibition Place, Parkdale Village
Downsview, North Park, Upwood Park
Del Ray, Keelesdale, Mount Dennis, Silverthorn
The Junction North, Runnymede
High Park, The Junction South
Parkdale, Roncesvalles
Runnymede, Swansea
Queen's Park
Canada Post Gateway Processing Centre
Business Reply Mail Processing Centre 969 Eastern
Humber Bay Shores, Mimico South, New Toronto
Alderwood, Long Branch
The Kingsway, Montgomery Road, Old Mill North
Humber Bay, King's Mill Park, Kingsway Park South East, Mimico NE, Old Mill South, The Queensway East, Royal York South East, Sunnylea
Kingsway Park South West, Mimico NW, The Queensway West, Royal York South West, South of Bloor
Islington Avenue
Cloverdale, Islington, Martin Grove, Princess Gardens, West Deane Park
Bloordale Gardens, Eringate, Markland Wood, Old Burnhamthorpe
Humber Summit
Emery, Humberlea
Weston
Westmount
Kingsview Village, Martin Grove Gardens, Richview Gardens, St. Phillips
Albion Gardens, Beaumond Heights, Humbergate, Jamestown, Mount Olive, Silverstone, South Steeles, Thistletown
Northwest
In [30]:
print('There are {} Uniques Categories.'.format(len(Scarborough_venues['Venue Category'].unique())))
Scarborough_venues.groupby('Neighborhood').count().head()
There are 299 Uniques Categories.
Out[30]:
Neighborhood Latitude	Neighborhood Longitude	Venue	Venue Latitude	Venue Longitude	Venue Category
Neighborhood						
Adelaide, King, Richmond	100	100	100	100	100	100
Agincourt	29	29	29	29	29	29
Agincourt North, L'Amoreaux East, Milliken, Steeles East	4	4	4	4	4	4
Albion Gardens, Beaumond Heights, Humbergate, Jamestown, Mount Olive, Silverstone, South Steeles, Thistletown	12	12	12	12	12	12
Alderwood, Long Branch	9	9	9	9	9	9
One Hot Encoding of Features
In [31]:
# one hot encoding
Scarborough_onehot = pd.get_dummies(Scarborough_venues[['Venue Category']], prefix="", prefix_sep="")

# add neighborhood column back to dataframe
Scarborough_onehot['Neighborhood'] = Scarborough_venues['Neighborhood'] 

# move neighborhood column to the first column
fixed_columns = [Scarborough_onehot.columns[-1]] + list(Scarborough_onehot.columns[:-1])
Scarborough_onehot = Scarborough_onehot[fixed_columns]
Scarborough_grouped = Scarborough_onehot.groupby('Neighborhood').mean().reset_index()
Scarborough_onehot.head(5)
Out[31]:
Zoo Exhibit	Accessories Store	Afghan Restaurant	African Restaurant	Airport	American Restaurant	Antique Shop	Arcade	Art Gallery	Art Museum	Arts & Crafts Store	Asian Restaurant	Athletics & Sports	Auto Dealership	BBQ Joint	Baby Store	Bagel Shop	Bakery	Bank	Bar	Baseball Field	Basketball Stadium	Beach	Beer Bar	Beer Store	Belgian Restaurant	Big Box Store	Bike Rental / Bike Share	Bike Shop	Bistro	Boat or Ferry	Bookstore	Boutique	Brazilian Restaurant	Breakfast Spot	Brewery	Bridge	Bubble Tea Shop	Buffet	Building	Burger Joint	Burrito Place	Bus Line	Bus Station	Bus Stop	Business Service	Butcher	Café	Cajun / Creole Restaurant	Camera Store	Candy Store	Cantonese Restaurant	Caribbean Restaurant	Castle	Cemetery	Cheese Shop	Chinese Restaurant	Chiropractor	Chocolate Shop	Church	Climbing Gym	Clothing Store	Cocktail Bar	Coffee Shop	College Arts Building	College Gym	College Rec Center	College Stadium	College Theater	Colombian Restaurant	Comedy Club	Comfort Food Restaurant	Comic Shop	Concert Hall	Construction & Landscaping	Convenience Store	Cosmetics Shop	Creperie	Cuban Restaurant	Cupcake Shop	Curling Ice	Dance Studio	Deli / Bodega	Dentist's Office	Department Store	Design Studio	Dessert Shop	Dim Sum Restaurant	Diner	Disc Golf	Discount Store	Doctor's Office	Dog Run	Doner Restaurant	Donut Shop	Dumpling Restaurant	Eastern European Restaurant	Electronics Store	Elementary School	Ethiopian Restaurant	Event Space	Falafel Restaurant	Farm	Farmers Market	Fast Food Restaurant	Field	Filipino Restaurant	Financial or Legal Service	Fish & Chips Shop	Fish Market	Flea Market	Flower Shop	Food	Food & Drink Shop	Food Court	Food Truck	Fountain	French Restaurant	Fried Chicken Joint	Frozen Yogurt Shop	Furniture / Home Store	Gaming Cafe	Garden	Gas Station	Gastropub	Gay Bar	General Entertainment	General Travel	German Restaurant	Gift Shop	Golf Course	Golf Driving Range	Gourmet Shop	Greek Restaurant	Grocery Store	Gym	Gym / Fitness Center	Gym Pool	Hakka Restaurant	Harbor / Marina	Hardware Store	Hawaiian Restaurant	Health & Beauty Service	Health Food Store	Historic Site	History Museum	Hobby Shop	Hockey Arena	Home Service	Hong Kong Restaurant	Hookah Bar	Hostel	Hot Dog Joint	Hotel	Hotel Bar	Hotpot Restaurant	Ice Cream Shop	Indian Restaurant	Indie Movie Theater	Indonesian Restaurant	Intersection	Irish Pub	Italian Restaurant	Japanese Restaurant	Jazz Club	Jewelry Store	Jewish Restaurant	Juice Bar	Karaoke Bar	Kids Store	Kitchen Supply Store	Korean Restaurant	Latin American Restaurant	Laundry Service	Leather Goods Store	Library	Light Rail Station	Lingerie Store	Liquor Store	Lounge	Mac & Cheese Joint	Malay Restaurant	Market	Martial Arts Dojo	Massage Studio	Mediterranean Restaurant	Men's Store	Metro Station	Mexican Restaurant	Middle Eastern Restaurant	Miscellaneous Shop	Mobile Phone Shop	Modern European Restaurant	Molecular Gastronomy Restaurant	Monument / Landmark	Movie Theater	Moving Target	Museum	Music Store	Music Venue	Neighborhood	New American Restaurant	Nightclub	Noodle House	Office	Opera House	Optical Shop	Organic Grocery	Other Great Outdoors	Other Nightlife	Paper / Office Supplies Store	Park	Pastry Shop	Performing Arts Venue	Peruvian Restaurant	Pet Store	Pharmacy	Pier	Pilates Studio	Pizza Place	Platform	Playground	Plaza	Poke Place	Pool	Pool Hall	Portuguese Restaurant	Poutine Place	Print Shop	Pub	Ramen Restaurant	Record Shop	Rental Car Location	Residential Building (Apartment / Condo)	Restaurant	Road	Rock Climbing Spot	Rock Club	Sake Bar	Salad Place	Salon / Barbershop	Sandwich Place	Scenic Lookout	Science Museum	Seafood Restaurant	Shanghai Restaurant	Shoe Store	Shopping Mall	Skate Park	Skating Rink	Smoke Shop	Smoothie Shop	Snack Place	Soccer Field	Soccer Stadium	Social Club	Soup Place	Southern / Soul Food Restaurant	Souvlaki Shop	Spa	Spanish Restaurant	Speakeasy	Sporting Goods Shop	Sports Bar	Sports Club	Stationery Store	Steakhouse	Storage Facility	Supermarket	Sushi Restaurant	Taco Place	Tailor Shop	Taiwanese Restaurant	Tanning Salon	Tapas Restaurant	Tea Room	Tech Startup	Tennis Court	Thai Restaurant	Theater	Theme Park	Theme Park Ride / Attraction	Theme Restaurant	Thrift / Vintage Store	Toy / Game Store	Track	Trail	Train Station	University	Vegetarian / Vegan Restaurant	Video Game Store	Video Store	Vietnamese Restaurant	Warehouse Store	Wine Bar	Wine Shop	Wings Joint	Women's Store	Yoga Studio
0	0	0	0	0	0	0	0	0	0	0	0	0	0	0	0	0	0	0	0	0	0	0	0	0	0	0	0	0	0	0	0	0	0	0	0	0	0	0	0	0	0	0	0	0	0	0	0	0	0	0	0	0	0	0	0	0	0	0	0	0	0	0	0	0	0	0	0	0	0	0	0	0	0	0	0	0	0	0	0	0	0	0	0	0	0	0	0	0	0	0	0	0	0	0	0	0	0	0	0	0	0	0	0	0	1	0	0	0	0	0	0	0	0	0	0	0	0	0	0	0	0	0	0	0	0	0	0	0	0	0	0	0	0	0	0	0	0	0	0	0	0	0	0	0	0	0	0	0	0	0	0	0	0	0	0	0	0	0	0	0	0	0	0	0	0	0	0	0	0	0	0	0	0	0	0	0	0	0	0	0	0	0	0	0	0	0	0	0	0	0	0	0	0	0	0	0	0	0	0	0	Rouge, Malvern	0	0	0	0	0	0	0	0	0	0	0	0	0	0	0	0	0	0	0	0	0	0	0	0	0	0	0	0	0	0	0	0	0	0	0	0	0	0	0	0	0	0	0	0	0	0	0	0	0	0	0	0	0	0	0	0	0	0	0	0	0	0	0	0	0	0	0	0	0	0	0	0	0	0	0	0	0	0	0	0	0	0	0	0	0	0	0	0	0	0	0	0	0	0	0	0	0	0
1	0	0	0	0	0	0	0	0	0	0	0	0	0	0	0	0	0	0	0	0	0	0	0	0	0	0	0	0	0	0	0	0	0	0	0	0	0	0	0	0	0	0	0	0	0	0	0	0	0	0	0	0	0	0	0	0	0	0	0	0	0	0	0	0	0	0	0	0	0	0	0	0	0	0	0	0	0	0	0	0	0	0	0	0	0	0	0	0	0	0	0	0	0	0	0	0	0	0	0	0	0	0	0	0	0	0	0	1	0	0	0	0	0	0	0	0	0	0	0	0	0	0	0	0	0	0	0	0	0	0	0	0	0	0	0	0	0	0	0	0	0	0	0	0	0	0	0	0	0	0	0	0	0	0	0	0	0	0	0	0	0	0	0	0	0	0	0	0	0	0	0	0	0	0	0	0	0	0	0	0	0	0	0	0	0	0	0	0	0	0	0	0	0	0	0	0	0	0	0	0	Rouge, Malvern	0	0	0	0	0	0	0	0	0	0	0	0	0	0	0	0	0	0	0	0	0	0	0	0	0	0	0	0	0	0	0	0	0	0	0	0	0	0	0	0	0	0	0	0	0	0	0	0	0	0	0	0	0	0	0	0	0	0	0	0	0	0	0	0	0	0	0	0	0	0	0	0	0	0	0	0	0	0	0	0	0	0	0	0	0	0	0	0	0	0	0	0	0	0	0	0	0	0
2	1	0	0	0	0	0	0	0	0	0	0	0	0	0	0	0	0	0	0	0	0	0	0	0	0	0	0	0	0	0	0	0	0	0	0	0	0	0	0	0	0	0	0	0	0	0	0	0	0	0	0	0	0	0	0	0	0	0	0	0	0	0	0	0	0	0	0	0	0	0	0	0	0	0	0	0	0	0	0	0	0	0	0	0	0	0	0	0	0	0	0	0	0	0	0	0	0	0	0	0	0	0	0	0	0	0	0	0	0	0	0	0	0	0	0	0	0	0	0	0	0	0	0	0	0	0	0	0	0	0	0	0	0	0	0	0	0	0	0	0	0	0	0	0	0	0	0	0	0	0	0	0	0	0	0	0	0	0	0	0	0	0	0	0	0	0	0	0	0	0	0	0	0	0	0	0	0	0	0	0	0	0	0	0	0	0	0	0	0	0	0	0	0	0	0	0	0	0	0	0	Rouge, Malvern	0	0	0	0	0	0	0	0	0	0	0	0	0	0	0	0	0	0	0	0	0	0	0	0	0	0	0	0	0	0	0	0	0	0	0	0	0	0	0	0	0	0	0	0	0	0	0	0	0	0	0	0	0	0	0	0	0	0	0	0	0	0	0	0	0	0	0	0	0	0	0	0	0	0	0	0	0	0	0	0	0	0	0	0	0	0	0	0	0	0	0	0	0	0	0	0	0	0
3	0	0	0	0	0	0	0	0	0	0	0	0	0	0	0	0	0	0	0	0	0	0	0	0	0	0	0	0	0	0	0	0	0	0	0	0	0	0	0	0	0	0	0	0	0	0	0	0	0	0	0	0	0	0	0	0	0	0	0	0	0	0	0	0	0	0	0	0	0	0	0	0	0	0	1	0	0	0	0	0	0	0	0	0	0	0	0	0	0	0	0	0	0	0	0	0	0	0	0	0	0	0	0	0	0	0	0	0	0	0	0	0	0	0	0	0	0	0	0	0	0	0	0	0	0	0	0	0	0	0	0	0	0	0	0	0	0	0	0	0	0	0	0	0	0	0	0	0	0	0	0	0	0	0	0	0	0	0	0	0	0	0	0	0	0	0	0	0	0	0	0	0	0	0	0	0	0	0	0	0	0	0	0	0	0	0	0	0	0	0	0	0	0	0	0	0	0	0	0	0	Rouge, Malvern	0	0	0	0	0	0	0	0	0	0	0	0	0	0	0	0	0	0	0	0	0	0	0	0	0	0	0	0	0	0	0	0	0	0	0	0	0	0	0	0	0	0	0	0	0	0	0	0	0	0	0	0	0	0	0	0	0	0	0	0	0	0	0	0	0	0	0	0	0	0	0	0	0	0	0	0	0	0	0	0	0	0	0	0	0	0	0	0	0	0	0	0	0	0	0	0	0	0
4	0	0	0	0	0	0	0	0	0	0	0	0	0	0	0	0	0	0	0	1	0	0	0	0	0	0	0	0	0	0	0	0	0	0	0	0	0	0	0	0	0	0	0	0	0	0	0	0	0	0	0	0	0	0	0	0	0	0	0	0	0	0	0	0	0	0	0	0	0	0	0	0	0	0	0	0	0	0	0	0	0	0	0	0	0	0	0	0	0	0	0	0	0	0	0	0	0	0	0	0	0	0	0	0	0	0	0	0	0	0	0	0	0	0	0	0	0	0	0	0	0	0	0	0	0	0	0	0	0	0	0	0	0	0	0	0	0	0	0	0	0	0	0	0	0	0	0	0	0	0	0	0	0	0	0	0	0	0	0	0	0	0	0	0	0	0	0	0	0	0	0	0	0	0	0	0	0	0	0	0	0	0	0	0	0	0	0	0	0	0	0	0	0	0	0	0	0	0	0	0	Highland Creek, Rouge Hill, Port Union	0	0	0	0	0	0	0	0	0	0	0	0	0	0	0	0	0	0	0	0	0	0	0	0	0	0	0	0	0	0	0	0	0	0	0	0	0	0	0	0	0	0	0	0	0	0	0	0	0	0	0	0	0	0	0	0	0	0	0	0	0	0	0	0	0	0	0	0	0	0	0	0	0	0	0	0	0	0	0	0	0	0	0	0	0	0	0	0	0	0	0	0	0	0	0	0	0	0
In [32]:
num_top_venues = 5
for hood in Scarborough_grouped['Neighborhood']:
    print("---- "+hood+" ----")
    temp =Scarborough_grouped[Scarborough_grouped['Neighborhood'] == hood].T.reset_index()
    temp.columns = ['venue','freq']
    temp = temp.iloc[1:]
    temp['freq'] = temp['freq'].astype(float)
    temp = temp.round({'freq': 2})
    print(temp.sort_values('freq', ascending=False).reset_index(drop=True).head(num_top_venues))
    print('\n')
---- Adelaide, King, Richmond ----
          venue  freq
0   Coffee Shop  0.09
1          Café  0.07
2         Hotel  0.06
3  Burger Joint  0.03
4           Bar  0.03


---- Agincourt ----
                  venue  freq
0         Shopping Mall  0.07
1    Chinese Restaurant  0.07
2  Hong Kong Restaurant  0.03
3   Filipino Restaurant  0.03
4   Shanghai Restaurant  0.03


---- Agincourt North, L'Amoreaux East, Milliken, Steeles East ----
              venue  freq
0          Pharmacy  0.50
1    Sandwich Place  0.25
2  Sushi Restaurant  0.25
3       Zoo Exhibit  0.00
4     Movie Theater  0.00


---- Albion Gardens, Beaumond Heights, Humbergate, Jamestown, Mount Olive, Silverstone, South Steeles, Thistletown ----
                 venue  freq
0        Grocery Store  0.17
1       Hardware Store  0.08
2  Fried Chicken Joint  0.08
3       Sandwich Place  0.08
4       Discount Store  0.08


---- Alderwood, Long Branch ----
               venue  freq
0  Convenience Store  0.11
1        Coffee Shop  0.11
2     Sandwich Place  0.11
3       Dance Studio  0.11
4                Pub  0.11


---- Bathurst Manor, Downsview North, Wilson Heights ----
                       venue  freq
0                Pizza Place  0.18
1                Coffee Shop  0.09
2   Mediterranean Restaurant  0.09
3              Deli / Bodega  0.09
4  Middle Eastern Restaurant  0.09


---- Bayview Village ----
              venue  freq
0  Asian Restaurant  0.25
1       Flower Shop  0.25
2              Park  0.25
3             Trail  0.25
4       Zoo Exhibit  0.00


---- Bedford Park, Lawrence Manor East ----
                venue  freq
0    Sushi Restaurant  0.07
1         Coffee Shop  0.07
2  Italian Restaurant  0.07
3                Café  0.04
4           Juice Bar  0.04


---- Berczy Park ----
         venue  freq
0  Coffee Shop  0.09
1   Restaurant  0.05
2         Café  0.05
3        Hotel  0.05
4     Beer Bar  0.04


---- Birch Cliff, Cliffside West ----
                   venue  freq
0                   Park  0.22
1         Baseball Field  0.11
2           Skating Rink  0.11
3  General Entertainment  0.11
4                    Gym  0.11


---- Bloordale Gardens, Eringate, Markland Wood, Old Burnhamthorpe ----
               venue  freq
0     Baseball Field  0.09
1  Fish & Chips Shop  0.09
2     Sandwich Place  0.09
3      Shopping Mall  0.09
4      Grocery Store  0.09


---- Brockton, Exhibition Place, Parkdale Village ----
                    venue  freq
0             Coffee Shop  0.08
1                    Café  0.07
2                     Bar  0.06
3              Restaurant  0.04
4  Furniture / Home Store  0.04


---- Business Reply Mail Processing Centre 969 Eastern ----
              venue  freq
0       Coffee Shop  0.10
1              Café  0.06
2             Hotel  0.04
3               Bar  0.04
4  Sushi Restaurant  0.03


---- CFB Toronto, Downsview East ----
          venue  freq
0  Soccer Field   0.2
1    Food Court   0.2
2       Airport   0.2
3          Park   0.2
4   Coffee Shop   0.2


---- CN Tower, Bathurst Quay, Island airport, Harbourfront West, King and Spadina, Railway Lands, South Niagara ----
                venue  freq
0         Coffee Shop  0.10
1          Restaurant  0.05
2                Café  0.05
3  Italian Restaurant  0.05
4                 Gym  0.04


---- Cabbagetown, St. James Town ----
                 venue  freq
0           Restaurant  0.06
1          Coffee Shop  0.06
2          Pizza Place  0.05
3  Japanese Restaurant  0.03
4               Bakery  0.03


---- Caledonia-Fairbanks ----
                 venue  freq
0                 Park  0.17
1  Sporting Goods Shop  0.08
2             Bus Stop  0.08
3                 Café  0.08
4               Market  0.08


---- Canada Post Gateway Processing Centre ----
              venue  freq
0       Coffee Shop  0.10
1              Café  0.06
2             Hotel  0.04
3               Bar  0.04
4  Sushi Restaurant  0.03


---- Cedarbrae ----
                  venue  freq
0  Caribbean Restaurant  0.12
1           Flower Shop  0.12
2     Indian Restaurant  0.12
3                  Bank  0.12
4                Bakery  0.12


---- Central Bay Street ----
                venue  freq
0         Coffee Shop  0.06
1      Clothing Store  0.04
2      Cosmetics Shop  0.04
3      Ice Cream Shop  0.03
4  Italian Restaurant  0.03


---- Chinatown, Grange Park, Kensington Market ----
                           venue  freq
0                           Café  0.06
1             Chinese Restaurant  0.05
2                            Bar  0.05
3          Vietnamese Restaurant  0.04
4  Vegetarian / Vegan Restaurant  0.04


---- Christie ----
               venue  freq
0  Korean Restaurant  0.18
1      Grocery Store  0.10
2              Diner  0.04
3  Indian Restaurant  0.04
4               Café  0.04


---- Church and Wellesley ----
                 venue  freq
0          Coffee Shop  0.09
1  Japanese Restaurant  0.04
2                 Café  0.03
3     Sushi Restaurant  0.03
4           Restaurant  0.03


---- Clairlea, Golden Mile, Oakridge ----
          venue  freq
0  Intersection  0.17
1      Bus Line  0.11
2   Coffee Shop  0.11
3         Diner  0.11
4        Bakery  0.11


---- Clarks Corners, Sullivan, Tam O'Shanter ----
                   venue  freq
0   Fast Food Restaurant  0.10
1            Pizza Place  0.10
2  Vietnamese Restaurant  0.07
3            Golf Course  0.03
4                 Market  0.03


---- Cliffcrest, Cliffside, Scarborough Village West ----
                  venue  freq
0  Fast Food Restaurant  0.17
1                  Park  0.08
2           Flower Shop  0.08
3          Liquor Store  0.08
4           Pizza Place  0.08


---- Cloverdale, Islington, Martin Grove, Princess Gardens, West Deane Park ----
                venue  freq
0         Pizza Place  0.25
1   Convenience Store  0.12
2  Mexican Restaurant  0.12
3                Bank  0.12
4                 Gym  0.12


---- Commerce Court, Victoria Hotel ----
         venue  freq
0  Coffee Shop  0.10
1        Hotel  0.06
2         Café  0.05
3   Restaurant  0.04
4    Gastropub  0.04


---- Davisville ----
            venue  freq
0    Dessert Shop  0.10
1     Pizza Place  0.10
2     Coffee Shop  0.07
3  Sandwich Place  0.07
4             Gym  0.05


---- Davisville North ----
            venue  freq
0             Gym  0.09
1     Yoga Studio  0.04
2        Pharmacy  0.04
3  Breakfast Spot  0.04
4         Brewery  0.04


---- Deer Park, Forest Hill SE, Rathnelly, South Hill, Summerhill West ----
              venue  freq
0               Pub  0.10
1       Coffee Shop  0.10
2      Skating Rink  0.10
3  Sushi Restaurant  0.10
4       Yoga Studio  0.05


---- Del Ray, Keelesdale, Mount Dennis, Silverthorn ----
                        venue  freq
0  Construction & Landscaping   0.2
1                  Playground   0.2
2            Storage Facility   0.2
3                 Coffee Shop   0.2
4        Fast Food Restaurant   0.2


---- Design Exchange, Toronto Dominion Centre ----
         venue  freq
0  Coffee Shop  0.13
1         Café  0.08
2        Hotel  0.07
3   Restaurant  0.04
4    Gastropub  0.03


---- Don Mills North ----
                venue  freq
0         Coffee Shop  0.11
1        Burger Joint  0.05
2  Italian Restaurant  0.05
3        Soccer Field  0.05
4       Smoothie Shop  0.05


---- Dorset Park, Scarborough Town Centre, Wexford Heights ----
         venue  freq
0       Bakery  0.33
1         Park  0.33
2    Wine Shop  0.17
3  Coffee Shop  0.17
4  Zoo Exhibit  0.00


---- Dovercourt Village, Dufferin ----
          venue  freq
0           Bar  0.10
1   Coffee Shop  0.10
2        Bakery  0.08
3          Café  0.06
4  Cocktail Bar  0.04


---- Downsview Central ----
               venue  freq
0       Home Service  0.29
1      Moving Target  0.14
2  Mobile Phone Shop  0.14
3               Park  0.14
4     Baseball Field  0.14


---- Downsview Northwest ----
                   venue  freq
0          Grocery Store  0.07
1            Pizza Place  0.07
2   Fast Food Restaurant  0.07
3  Vietnamese Restaurant  0.07
4          Shopping Mall  0.07


---- Downsview West ----
            venue  freq
0     Coffee Shop  0.10
1   Grocery Store  0.05
2  Discount Store  0.05
3  Sandwich Place  0.05
4   Big Box Store  0.05


---- Downsview, North Park, Upwood Park ----
                        venue  freq
0           Convenience Store   0.2
1  Construction & Landscaping   0.2
2                Home Service   0.2
3                      Bakery   0.2
4                        Park   0.2


---- East Birchmount Park, Ionview, Kennedy Park ----
               venue  freq
0  Convenience Store  0.25
1     Discount Store  0.25
2        Coffee Shop  0.25
3   Department Store  0.25
4        Music Venue  0.00


---- East Toronto ----
                venue  freq
0      Sandwich Place  0.14
1  Italian Restaurant  0.14
2         Coffee Shop  0.14
3                Park  0.14
4  Athletics & Sports  0.14


---- Emery, Humberlea ----
            venue  freq
0     Coffee Shop  0.29
1            Park  0.14
2  Discount Store  0.14
3            Café  0.14
4       Nightclub  0.14


---- Fairview, Henry Farm, Oriole ----
                  venue  freq
0        Clothing Store  0.16
1  Fast Food Restaurant  0.10
2           Coffee Shop  0.07
3         Women's Store  0.04
4                Bakery  0.03


---- First Canadian Place, Underground city ----
                 venue  freq
0          Coffee Shop  0.14
1                Hotel  0.08
2                 Café  0.07
3            Gastropub  0.03
4  American Restaurant  0.03


---- Flemingdon Park, Don Mills South ----
                 venue  freq
0  Japanese Restaurant  0.08
1       Science Museum  0.08
2     Asian Restaurant  0.08
3           Beer Store  0.08
4                  Gym  0.08


---- Forest Hill North, Forest Hill West ----
            venue  freq
0            Café   0.2
1     Coffee Shop   0.1
2       Bookstore   0.1
3    Burger Joint   0.1
4  Ice Cream Shop   0.1


---- Glencairn ----
                      venue  freq
0      Fast Food Restaurant  0.18
1             Grocery Store  0.18
2             Metro Station  0.09
3       Japanese Restaurant  0.09
4  Mediterranean Restaurant  0.09


---- Guildwood, Morningside, West Hill ----
                  venue  freq
0                  Park  0.29
1                  Pool  0.14
2     Indian Restaurant  0.14
3   Fried Chicken Joint  0.14
4  Gym / Fitness Center  0.14


---- Harbord, University of Toronto ----
         venue  freq
0         Café  0.07
1   Restaurant  0.06
2  Coffee Shop  0.05
3  Pizza Place  0.04
4          Bar  0.04


---- Harbourfront East, Toronto Islands, Union Station ----
             venue  freq
0             Café  0.29
1  Harbor / Marina  0.14
2             Park  0.14
3             Pier  0.14
4            Beach  0.14


---- Harbourfront, Regent Park ----
         venue  freq
0  Coffee Shop  0.12
1      Theater  0.06
2       Bakery  0.06
3         Café  0.04
4   Restaurant  0.04


---- High Park, The Junction South ----
               venue  freq
0  Convenience Store  0.09
1               Park  0.07
2               Café  0.07
3                Bar  0.07
4    Thai Restaurant  0.04


---- Highland Creek, Rouge Hill, Port Union ----
          venue  freq
0           Bar   1.0
1        Museum   0.0
2   Opera House   0.0
3        Office   0.0
4  Noodle House   0.0


---- Hillcrest Village ----
                                      venue  freq
0                                      Park  0.29
1                      Fast Food Restaurant  0.14
2                                    Bakery  0.14
3  Residential Building (Apartment / Condo)  0.14
4                                  Pharmacy  0.14


---- Humber Bay Shores, Mimico South, New Toronto ----
               venue  freq
0               Park  0.14
1      Grocery Store  0.10
2  Convenience Store  0.10
3       Skating Rink  0.05
4     Breakfast Spot  0.05


---- Humber Bay, King's Mill Park, Kingsway Park South East, Mimico NE, Old Mill South, The Queensway East, Royal York South East, Sunnylea ----
                venue  freq
0         Coffee Shop  0.19
1      Sandwich Place  0.06
2  Italian Restaurant  0.06
3        Liquor Store  0.06
4                Bank  0.06


---- Humber Summit ----
               venue  freq
0  Electronics Store   1.0
1        Zoo Exhibit   0.0
2        Opera House   0.0
3       Noodle House   0.0
4          Nightclub   0.0


---- Humewood-Cedarvale ----
               venue  freq
0  Convenience Store  0.14
1              Trail  0.14
2       Hockey Arena  0.14
3      Grocery Store  0.14
4      Deli / Bodega  0.14


---- Islington Avenue ----
               venue  freq
0           Pharmacy  0.25
1  Convenience Store  0.08
2      Shopping Mall  0.08
3      Grocery Store  0.08
4               Bank  0.08


---- Kingsview Village, Martin Grove Gardens, Richview Gardens, St. Phillips ----
                 venue  freq
0             Pharmacy   0.2
1    Mobile Phone Shop   0.2
2             Bus Line   0.2
3  American Restaurant   0.2
4          Coffee Shop   0.2


---- Kingsway Park South West, Mimico NW, The Queensway West, Royal York South West, South of Bloor ----
             venue  freq
0    Burrito Place  0.12
1              Gym  0.08
2             Bank  0.04
3    Grocery Store  0.04
4  Thai Restaurant  0.04


---- L'Amoreaux West ----
                  venue  freq
0              Pharmacy  0.13
1  Fast Food Restaurant  0.13
2    Chinese Restaurant  0.13
3  Other Great Outdoors  0.07
4         Grocery Store  0.07


---- Lawrence Heights, Lawrence Manor ----
              venue  freq
0    Clothing Store  0.17
1      Dessert Shop  0.05
2  Toy / Game Store  0.03
3        Restaurant  0.03
4  Greek Restaurant  0.03


---- Lawrence Park ----
         venue  freq
0     Bus Line  0.14
1         Park  0.14
2         Café  0.14
3  Coffee Shop  0.14
4   Restaurant  0.14


---- Leaside ----
                    venue  freq
0             Coffee Shop  0.10
1       Electronics Store  0.06
2     Sporting Goods Shop  0.06
3  Furniture / Home Store  0.06
4                 Brewery  0.04


---- Little Portugal, Trinity ----
                venue  freq
0                 Bar  0.08
1         Coffee Shop  0.05
2          Restaurant  0.05
3                Café  0.04
4  Italian Restaurant  0.04


---- Maryvale, Wexford ----
                       venue  freq
0                 Hookah Bar   0.2
1                Pizza Place   0.2
2  Middle Eastern Restaurant   0.2
3                Gas Station   0.2
4               Burger Joint   0.2


---- Moore Park, Summerhill East ----
             venue  freq
0             Park   0.4
1    Grocery Store   0.2
2              Gym   0.2
3  Thai Restaurant   0.2
4      Zoo Exhibit   0.0


---- Newtonbrook, Willowdale ----
                       venue  freq
0          Korean Restaurant  0.12
1  Middle Eastern Restaurant  0.12
2                       Café  0.09
3                Coffee Shop  0.09
4        Fried Chicken Joint  0.03


---- North Toronto West ----
                 venue  freq
0          Coffee Shop  0.09
1  Sporting Goods Shop  0.09
2                 Café  0.09
3       Clothing Store  0.09
4           Restaurant  0.06


---- Northwest ----
              venue  freq
0    Sandwich Place  0.17
1       Coffee Shop  0.17
2  Storage Facility  0.17
3      Burger Joint  0.17
4               Gym  0.17


---- Northwood Park, York University ----
                 venue  freq
0  Japanese Restaurant  0.12
1                  Bar  0.12
2                 Bank  0.12
3          Pizza Place  0.12
4       Massage Studio  0.12


---- Parkdale, Roncesvalles ----
                         venue  freq
0                  Coffee Shop  0.09
1                       Bakery  0.06
2  Eastern European Restaurant  0.04
3             Sushi Restaurant  0.04
4              Thai Restaurant  0.04


---- Parkwoods ----
                       venue  freq
0          Food & Drink Shop  0.33
1                       Park  0.33
2                  Pet Store  0.33
3  Middle Eastern Restaurant  0.00
4         Miscellaneous Shop  0.00


---- Queen's Park ----
                 venue  freq
0          Coffee Shop  0.20
1                 Café  0.08
2       Sandwich Place  0.05
3   Italian Restaurant  0.04
4  Japanese Restaurant  0.04


---- Rosedale ----
           venue  freq
0           Park   0.4
1     Playground   0.2
2  Grocery Store   0.2
3    Candy Store   0.2
4    Zoo Exhibit   0.0


---- Roselawn ----
              venue  freq
0        Playground   0.4
1            Garden   0.2
2  Business Service   0.2
3         Pet Store   0.2
4       Zoo Exhibit   0.0


---- Rouge, Malvern ----
                        venue  freq
0                 Zoo Exhibit  0.25
1  Financial or Legal Service  0.25
2        Fast Food Restaurant  0.25
3  Construction & Landscaping  0.25
4           Hotpot Restaurant  0.00


---- Runnymede, Swansea ----
              venue  freq
0              Café  0.10
1       Coffee Shop  0.08
2            Bakery  0.05
3       Pizza Place  0.05
4  Sushi Restaurant  0.03


---- Ryerson, Garden District ----
                       venue  freq
0                Coffee Shop  0.07
1             Clothing Store  0.05
2             Cosmetics Shop  0.04
3  Middle Eastern Restaurant  0.04
4                 Restaurant  0.03


---- Scarborough Village ----
                  venue  freq
0  Fast Food Restaurant  0.33
1        Sandwich Place  0.22
2         Train Station  0.11
3         Big Box Store  0.11
4     Indian Restaurant  0.11


---- Silver Hills, York Mills ----
           venue  freq
0           Park   1.0
1    Zoo Exhibit   0.0
2  Moving Target   0.0
3   Noodle House   0.0
4      Nightclub   0.0


---- St. James Town ----
                venue  freq
0         Coffee Shop  0.07
1               Hotel  0.06
2                Café  0.06
3  Italian Restaurant  0.04
4              Bakery  0.04


---- Stn A PO Boxes 25 The Esplanade ----
              venue  freq
0       Coffee Shop  0.10
1              Café  0.06
2             Hotel  0.04
3               Bar  0.04
4  Sushi Restaurant  0.03


---- Studio District ----
                venue  freq
0         Coffee Shop  0.07
1                Café  0.05
2  Italian Restaurant  0.05
3               Diner  0.05
4              Bakery  0.05


---- The Annex, North Midtown, Yorkville ----
                venue  freq
0  Italian Restaurant  0.08
1                Café  0.08
2         Coffee Shop  0.08
3      Sandwich Place  0.08
4      History Museum  0.05


---- The Beaches ----
                 venue  freq
0                  Pub  0.06
1          Pizza Place  0.06
2  Japanese Restaurant  0.06
3                  Bar  0.06
4                 Café  0.03


---- The Beaches West, India Bazaar ----
                venue  freq
0                Park  0.08
1                Café  0.05
2              Bakery  0.05
3  Italian Restaurant  0.05
4             Brewery  0.05


---- The Danforth West, Riverdale ----
              venue  freq
0  Greek Restaurant  0.13
1    Ice Cream Shop  0.07
2              Café  0.07
3       Yoga Studio  0.03
4   Bubble Tea Shop  0.03


---- The Junction North, Runnymede ----
                    venue  freq
0                 Brewery  0.38
1                    Park  0.25
2      Athletics & Sports  0.12
3             Coffee Shop  0.12
4  Furniture / Home Store  0.12


---- The Kingsway, Montgomery Road, Old Mill North ----
               venue  freq
0   Sushi Restaurant  0.07
1     Breakfast Spot  0.07
2  French Restaurant  0.07
3       Burger Joint  0.07
4   Toy / Game Store  0.04


---- Thorncliffe Park ----
               venue  freq
0       Burger Joint  0.11
1  Indian Restaurant  0.11
2        Yoga Studio  0.06
3     Discount Store  0.06
4             Bridge  0.06


---- Victoria Village ----
                       venue  freq
0  Middle Eastern Restaurant  0.14
1      Portuguese Restaurant  0.14
2                Pizza Place  0.14
3          French Restaurant  0.14
4                       Park  0.14


---- Westmount ----
                venue  freq
0         Pizza Place  0.18
1  Golf Driving Range  0.09
2      Discount Store  0.09
3         Supermarket  0.09
4  Chinese Restaurant  0.09


---- Weston ----
                       venue  freq
0              Train Station  0.15
1                Coffee Shop  0.15
2             Sandwich Place  0.08
3  Middle Eastern Restaurant  0.08
4                Pizza Place  0.08


---- Willowdale South ----
              venue  freq
0       Coffee Shop  0.07
1  Ramen Restaurant  0.05
2       Pizza Place  0.05
3              Café  0.05
4    Sandwich Place  0.05


---- Willowdale West ----
                         venue  freq
0                  Coffee Shop  0.15
1                         Park  0.08
2  Eastern European Restaurant  0.08
3                Grocery Store  0.08
4                       Bakery  0.08


---- Woburn ----
                  venue  freq
0           Coffee Shop   0.4
1                  Park   0.2
2      Business Service   0.2
3  Fast Food Restaurant   0.2
4           Zoo Exhibit   0.0


---- Woodbine Gardens, Parkview Hill ----
                  venue  freq
0  Fast Food Restaurant  0.10
1               Brewery  0.10
2           Pizza Place  0.10
3          Home Service  0.10
4            Restaurant  0.05


---- Woodbine Heights ----
            venue  freq
0        Bus Line  0.06
1     Pizza Place  0.06
2     Coffee Shop  0.06
3   Grocery Store  0.06
4  Sandwich Place  0.06


---- York Mills West ----
           venue  freq
0    Coffee Shop  0.16
1     Restaurant  0.12
2            Gym  0.12
3  Burrito Place  0.04
4           Bank  0.04


In [33]:
def return_most_common_venues(row, num_top_venues):
    row_categories = row.iloc[1:]
    row_categories_sorted = row_categories.sort_values(ascending=False)
    
    return row_categories_sorted.index.values[0:num_top_venues]
Most Common venues near neighborhood
In [34]:
import numpy as np
num_top_venues = 10

indicators = ['st', 'nd', 'rd']

columns = ['Neighborhood']
for ind in np.arange(num_top_venues):
    try:
        columns.append('{}{} Most Common Venue'.format(ind+1, indicators[ind]))
    except:
        columns.append('{}th Most Common Venue'.format(ind+1))

neighborhoods_venues_sorted = pd.DataFrame(columns=columns)
neighborhoods_venues_sorted['Neighborhood'] = Scarborough_grouped['Neighborhood']

for ind in np.arange(Scarborough_grouped.shape[0]):
    neighborhoods_venues_sorted.iloc[ind, 1:] = return_most_common_venues(Scarborough_grouped.iloc[ind, :], num_top_venues)

neighborhoods_venues_sorted.head()
Out[34]:
Neighborhood	1st Most Common Venue	2nd Most Common Venue	3rd Most Common Venue	4th Most Common Venue	5th Most Common Venue	6th Most Common Venue	7th Most Common Venue	8th Most Common Venue	9th Most Common Venue	10th Most Common Venue
0	Adelaide, King, Richmond	Coffee Shop	Café	Hotel	Gastropub	Burger Joint	Asian Restaurant	Bar	Restaurant	American Restaurant	Steakhouse
1	Agincourt	Chinese Restaurant	Shopping Mall	Pizza Place	Supermarket	Sushi Restaurant	Breakfast Spot	Print Shop	Mediterranean Restaurant	Coffee Shop	Pool
2	Agincourt North, L'Amoreaux East, Milliken, St...	Pharmacy	Sandwich Place	Sushi Restaurant	Doner Restaurant	Donut Shop	Dumpling Restaurant	Eastern European Restaurant	Electronics Store	Elementary School	Ethiopian Restaurant
3	Albion Gardens, Beaumond Heights, Humbergate, ...	Grocery Store	Park	Sandwich Place	Discount Store	Japanese Restaurant	Fried Chicken Joint	Beer Store	Hardware Store	Pizza Place	Fast Food Restaurant
4	Alderwood, Long Branch	Convenience Store	Pub	Sandwich Place	Coffee Shop	Gas Station	Dance Studio	Gym	Pharmacy	Pizza Place	Falafel Restaurant
K-Means Clustering Approach
In [35]:
# Using K-Means to cluster neighborhood into 3 clusters
Scarborough_grouped_clustering = Scarborough_grouped.drop('Neighborhood', 1)
kmeans = KMeans(n_clusters=3, random_state=0).fit(Scarborough_grouped_clustering)
kmeans.labels_
Out[35]:
array([0, 0, 0, 0, 0, 0, 2, 0, 0, 2, 0, 0, 0, 0, 0, 0, 0, 0, 0, 0, 0, 0,
       0, 0, 0, 0, 0, 0, 0, 0, 0, 0, 0, 0, 2, 0, 0, 0, 0, 2, 0, 0, 0, 0,
       0, 0, 0, 0, 2, 0, 0, 0, 0, 0, 2, 0, 0, 0, 0, 0, 0, 0, 0, 0, 0, 0,
       0, 0, 2, 0, 0, 0, 0, 0, 2, 0, 2, 0, 0, 0, 0, 0, 1, 0, 0, 0, 0, 0,
       0, 0, 2, 0, 0, 0, 0, 0, 0, 0, 0, 0, 0, 0], dtype=int32)
In [36]:
neighborhoods_venues_sorted.insert(0, 'Cluster Labels', kmeans.labels_)

Scarborough_merged =df_2.iloc[:16,:]

# merge toronto_grouped with toronto_data to add latitude/longitude for each neighborhood
Scarborough_merged = Scarborough_merged.join(neighborhoods_venues_sorted.set_index('Neighborhood'), on='Neighborhood')

Scarborough_merged.head()# check the last columns!
Out[36]:
Postalcode	Borough	Neighborhood	Latitude	Longitude	Cluster Labels	1st Most Common Venue	2nd Most Common Venue	3rd Most Common Venue	4th Most Common Venue	5th Most Common Venue	6th Most Common Venue	7th Most Common Venue	8th Most Common Venue	9th Most Common Venue	10th Most Common Venue
0	M1B	Scarborough	Rouge, Malvern	43.811525	-79.195517	0	Zoo Exhibit	Financial or Legal Service	Fast Food Restaurant	Construction & Landscaping	Fish & Chips Shop	Filipino Restaurant	Field	Fish Market	Farmers Market	Doner Restaurant
1	M1C	Scarborough	Highland Creek, Rouge Hill, Port Union	43.785665	-79.158725	0	Bar	Falafel Restaurant	Donut Shop	Dumpling Restaurant	Eastern European Restaurant	Electronics Store	Elementary School	Ethiopian Restaurant	Event Space	Yoga Studio
2	M1E	Scarborough	Guildwood, Morningside, West Hill	43.765815	-79.175193	2	Park	Gym / Fitness Center	Pool	Fried Chicken Joint	Indian Restaurant	Athletics & Sports	Ethiopian Restaurant	Donut Shop	Dumpling Restaurant	Eastern European Restaurant
3	M1G	Scarborough	Woburn	43.768369	-79.217590	0	Coffee Shop	Fast Food Restaurant	Business Service	Park	Yoga Studio	Dumpling Restaurant	Eastern European Restaurant	Electronics Store	Elementary School	Ethiopian Restaurant
4	M1H	Scarborough	Cedarbrae	43.769688	-79.239440	0	Flower Shop	Athletics & Sports	Thai Restaurant	Bank	Bakery	Caribbean Restaurant	Hakka Restaurant	Indian Restaurant	Eastern European Restaurant	Electronics Store
Map of Clusters
In [37]:
kclusters = 10
In [38]:
# create map
map_clusters = folium.Map(location=[latitude_x, longitude_y], zoom_start=11)

# set color scheme for the clusters
x = np.arange(kclusters)
colors_array = cm.rainbow(np.linspace(0, 1, kclusters))
rainbow = [colors.rgb2hex(i) for i in colors_array]
print(rainbow)
# add markers to the map

markers_colors = []
for lat, lon, nei , cluster in zip(Scarborough_merged['Latitude'], 
                                   Scarborough_merged['Longitude'], 
                                   Scarborough_merged['Neighborhood'], 
                                   Scarborough_merged['Cluster Labels']):
    label = folium.Popup(str(nei) + ' Cluster ' + str(cluster), parse_html=True)
    folium.CircleMarker(
        [lat, lon],
        radius=5,
        popup=label,
        color=rainbow[cluster-1],
        fill=True,
        fill_color=rainbow[cluster-1],
        fill_opacity=0.7).add_to(map_clusters)
       
map_clusters
['#8000ff', '#4856fb', '#10a2f0', '#2adddd', '#62fbc4', '#9cfba4', '#d4dd80', '#ffa256', '#ff562c', '#ff0000']
Out[38]:
In [39]:
df1=Scarborough_merged.loc[Scarborough_merged['Cluster Labels'] == 0,Scarborough_merged.columns[[2] + list(range(5, Scarborough_merged.shape[1]))]]
df2=Scarborough_merged.loc[Scarborough_merged['Cluster Labels'] == 1,Scarborough_merged.columns[[2] + list(range(5, Scarborough_merged.shape[1]))]]
df3=Scarborough_merged.loc[Scarborough_merged['Cluster Labels'] == 2,Scarborough_merged.columns[[2] + list(range(5, Scarborough_merged.shape[1]))]]
In [40]:
Scarborough_Avg_HousingPrice=pd.DataFrame({"Neighborhood":df_2["Neighborhood"],
                                      "Average_Housing_Price":[335000.0,286600.0,175000.0,225900.0,219400.0,
                                                               573900.0,225000.0,370500.0,370500.0,433500.0,279200.0,
                                                               279200.0,225000.0,370500.,255400.0,433500.0,433500.0,
                                                               435000.0,289500.0,265000.0,285900.0,239400.0,
                                                               589900.0,295000.0,380500.0,378500.0,438500.0,229200.0,
                                                               229200.0,365000.0,388500.,285400.0,493500.0,477500.0,378000.0,316600.0,195000.0,225900.0,219400.0,
                                                               573900.0,367000.0,370500.0,370500.0,363500.0,279200.0,
                                                               279200.0,271000.0,370500.,255400.0,383500.0,433500.0,335000.0,286600.0,185000.0,225900.0,219400.0,
                                                               573900.0,329000.0,370500.0,370500.0,533500.0,279200.0,
                                                               279200.0,375000.0,370500.,255400.0,493500.0,433500.0,335000.0,286600.0,165000.0,225900.0,219400.0,
                                                               573900.0,425000.0,370500.0,370500.0,433500.0,279200.0,
                                                               279200.0,195000.0,370500.,255400.0,403500.0,433500.0,335000.0,286600.0,187000.0,225900.0,219400.0,
                                                               573900.0,325000.0,370500.0,370500.0,333500.0,279200.0,
                                                               279200.0,289000.0,370500.,255400.0,413500.0,433500.0,254800.0
                                                              
                                                              
                                                              ]})
In [41]:
Scarborough_Avg_HousingPrice.set_index('Neighborhood',inplace=True,drop=True)
In [42]:
Scarborough_Avg_HousingPrice.plot(kind='bar',figsize=(24,18),alpha=0.75)
Out[42]:
<matplotlib.axes._subplots.AxesSubplot at 0x7f24243f3320>

School Rating by Clusters
In [43]:
clusters=pd.DataFrame({"Cluster1":df1["Neighborhood"],
                      "Cluster2":df2["Neighborhood"],
                      "Cluster4":df3["Neighborhood"]})
clusters = clusters.replace(np.nan, '', regex=True)
In [44]:
new_Scarborough=Scarborough_merged.set_index("Neighborhood",drop=True)
#Source:https://www.greatschools.org
Scarborough_school_ratings=pd.DataFrame({"Neighborhood":df["Neighborhood"],
                                      "Top School Rating":[7,9,5,8,10,10,7,10,1,2,1,2,7,2,3,2,6,
                                                           5,4,8,9,9,6,6,4,5,4,6,8,10,8,9,6,2,
                                                           10,2,5,8,9,6,6,10,8,9,1,2,3,4,5,6,9,
                                                           8,5,9,6,9,6,4,8,10,2,5,6,3,9,8,7,
                                                           7,8,5,8,9,1,5,4,7,2,3,6,6,9,4,8,7,
                                                           4,8,9,2,6,4,7,5,10,4,6,8,9,7,5,6,5,8,7
                                                           ]})
In [45]:
Scarborough_school_ratings.set_index('Neighborhood',inplace=True,drop=True)
In [46]:
Scarborough_school_ratings.plot(kind='bar',figsize=(16,10),color='green',alpha=0.75);

Conclusion: In this project, using k-means cluster algorithm I separated the neighborhood into 10(Ten) different clusters and for 103 different lattitude and logitude from dataset, which have very-similar neighborhoods around them. Using the charts above results presented to a particular neighborhood based on average house prices and school rating have been made.

Blog Post Link: http://roshangrewal.com/capstone-project-the-battle-of-neighborhoods-finding-a-better-place-in-scarborough-toronto/

Namastey, Thank You! Hope You Liked My Work, I'm Still Learning!
My email address: roshangrewal@hotmail.com
Website: http://roshangrewal.com